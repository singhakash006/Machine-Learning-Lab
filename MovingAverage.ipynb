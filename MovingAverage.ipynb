{
 "cells": [
  {
   "cell_type": "code",
   "execution_count": 2,
   "id": "c5805103",
   "metadata": {},
   "outputs": [],
   "source": [
    "def calculate_simple_moving_average(data, window_size):\n",
    "    moving_averages = []\n",
    "\n",
    "    for i in range(len(data) - window_size + 1):\n",
    " \n",
    "        window = data[i : i + window_size]\n",
    "    \n",
    "        window_average = sum(window) / window_size\n",
    "        \n",
    "        moving_averages.append(window_average)\n",
    "        \n",
    "    return moving_averages\n",
    "\n",
    "\n",
    "\n"
   ]
  },
  {
   "cell_type": "code",
   "execution_count": 3,
   "id": "50983932",
   "metadata": {},
   "outputs": [],
   "source": [
    "# *****Example Usage: The Funnel Cake Scenario *****\n",
    "\n",
    "daily_funnel_cake_kg = [2, 3, 2.5, 4, 3.5, 5, 4.5, 5.5, 5, 6]\n",
    "\n",
    "# Here i am calculating  a 3-day moving average.\n",
    "window = 3\n",
    "ma_results = calculate_simple_moving_average(daily_funnel_cake_kg, window)\n"
   ]
  },
  {
   "cell_type": "code",
   "execution_count": 4,
   "id": "6f54f871",
   "metadata": {},
   "outputs": [
    {
     "name": "stdout",
     "output_type": "stream",
     "text": [
      "Daily Funnel Cake Received (kg): [2, 3, 2.5, 4, 3.5, 5, 4.5, 5.5, 5, 6]\n",
      "\n",
      "3-Day Moving Average of Funnel Cake:\n",
      "  - Average for days ending on Day 3: 2.50 kg\n",
      "  - Average for days ending on Day 4: 3.17 kg\n",
      "  - Average for days ending on Day 5: 3.33 kg\n",
      "  - Average for days ending on Day 6: 4.17 kg\n",
      "  - Average for days ending on Day 7: 4.33 kg\n",
      "  - Average for days ending on Day 8: 5.00 kg\n",
      "  - Average for days ending on Day 9: 5.00 kg\n",
      "  - Average for days ending on Day 10: 5.50 kg\n"
     ]
    }
   ],
   "source": [
    "\n",
    "print(f\"Daily Funnel Cake Received (kg): {daily_funnel_cake_kg}\")\n",
    "print(f\"\\n{window}-Day Moving Average of Funnel Cake:\")\n",
    "\n",
    "for i, avg in enumerate(ma_results):\n",
    "    print(f\"  - Average for days ending on Day {i + window}: {avg:.2f} kg\")"
   ]
  }
 ],
 "metadata": {
  "kernelspec": {
   "display_name": "Python 3",
   "language": "python",
   "name": "python3"
  },
  "language_info": {
   "codemirror_mode": {
    "name": "ipython",
    "version": 3
   },
   "file_extension": ".py",
   "mimetype": "text/x-python",
   "name": "python",
   "nbconvert_exporter": "python",
   "pygments_lexer": "ipython3",
   "version": "3.13.6"
  }
 },
 "nbformat": 4,
 "nbformat_minor": 5
}

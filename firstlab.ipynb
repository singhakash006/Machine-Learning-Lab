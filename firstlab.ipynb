{
 "cells": [
  {
   "cell_type": "code",
   "execution_count": 12,
   "id": "5d6dc7b9",
   "metadata": {},
   "outputs": [],
   "source": [
    "import numpy as np\n",
    "x = np.array([0, 1, 2, 3, 3, 5, 5, 6, 7, 7, 10, 5])\n",
    "y = np.array([96, 85, 82, 74, 95, 68, 76, 58, 65, 75, 50, 84])"
   ]
  },
  {
   "cell_type": "code",
   "execution_count": 13,
   "id": "50370fc3",
   "metadata": {},
   "outputs": [],
   "source": [
    "n = np.size(x)\n",
    "\n",
    "mean_x = np.mean(x)\n",
    "mean_y = np.mean(y)\n",
    "\n",
    "sumxy = np.sum(x*y) - n*mean_x*mean_y\n",
    "sumxx = np.sum(x*x) - n*mean_x*mean_x"
   ]
  },
  {
   "cell_type": "code",
   "execution_count": 16,
   "id": "0087f7c5",
   "metadata": {},
   "outputs": [],
   "source": [
    "m = sumxy/sumxx\n",
    "c =mean_y-m * mean_x\n",
    "pred_y = m*x + c\n",
    "error = y - pred_y\n"
   ]
  },
  {
   "cell_type": "code",
   "execution_count": 18,
   "id": "fff2aaae",
   "metadata": {},
   "outputs": [
    {
     "name": "stdout",
     "output_type": "stream",
     "text": [
      "Predicted marks for 9.0 hours of study: 57.36\n"
     ]
    }
   ],
   "source": [
    "hours = float(input(\"Enter how many hours did you watch (0 - 10)\"))\n",
    "predicted_marks = m * hours + c\n",
    "print(f\"Predicted marks for {hours} hours of study: {predicted_marks:.2f}\")"
   ]
  }
 ],
 "metadata": {
  "kernelspec": {
   "display_name": "Python 3",
   "language": "python",
   "name": "python3"
  },
  "language_info": {
   "codemirror_mode": {
    "name": "ipython",
    "version": 3
   },
   "file_extension": ".py",
   "mimetype": "text/x-python",
   "name": "python",
   "nbconvert_exporter": "python",
   "pygments_lexer": "ipython3",
   "version": "3.13.6"
  }
 },
 "nbformat": 4,
 "nbformat_minor": 5
}
